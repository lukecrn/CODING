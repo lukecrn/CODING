{
 "cells": [
  {
   "cell_type": "code",
   "execution_count": 1,
   "metadata": {},
   "outputs": [
    {
     "name": "stdout",
     "output_type": "stream",
     "text": [
      "5 patinhos foram passear, mas só 4 voltaram\n",
      "4 patinhos foram passear, mas só 3 voltaram\n",
      "3 patinhos foram passear, mas só 2 voltaram\n",
      "2 patinhos foram passear, mas só 1 voltaram\n",
      "1 patinhos foram passear, mas só 0 voltaram\n"
     ]
    }
   ],
   "source": [
    "patos = 5\n",
    "while patos >= 1:\n",
    "    print(f'{patos} patinhos foram passear, mas só {patos - 1} voltaram')\n",
    "    patos -= 1"
   ]
  },
  {
   "cell_type": "code",
   "execution_count": 2,
   "metadata": {},
   "outputs": [
    {
     "name": "stdout",
     "output_type": "stream",
     "text": [
      "1 elefante incomoda muita gente\n",
      "2 elefantes incomodam incomodam  muito mais\n",
      "3 elefantes incomodam muita gente\n",
      "4 elefantes incomodam incomodam incomodam incomodam  muito mais\n",
      "5 elefantes incomodam muita gente\n",
      "6 elefantes incomodam incomodam incomodam incomodam incomodam incomodam  muito mais\n",
      "7 elefantes incomodam muita gente\n",
      "8 elefantes incomodam incomodam incomodam incomodam incomodam incomodam incomodam incomodam  muito mais\n",
      "9 elefantes incomodam muita gente\n",
      "10 elefantes incomodam incomodam incomodam incomodam incomodam incomodam incomodam incomodam incomodam incomodam  muito mais\n"
     ]
    }
   ],
   "source": [
    "elefantes = 1\n",
    "while elefantes in range(0, 11):\n",
    "    if elefantes == 1:\n",
    "        print(f'{elefantes} elefante incomoda muita gente')\n",
    "    elif elefantes % 2 == 0:\n",
    "        print(f'{elefantes} elefantes', 'incomodam ' * elefantes, 'muito mais')\n",
    "    else:\n",
    "        print(f'{elefantes} elefantes incomodam muita gente')\n",
    "    elefantes += 1"
   ]
  },
  {
   "cell_type": "code",
   "execution_count": 3,
   "metadata": {},
   "outputs": [
    {
     "name": "stdout",
     "output_type": "stream",
     "text": [
      "10 elefantes incomodam incomodam incomodam incomodam incomodam incomodam incomodam incomodam incomodam incomodam  pouca gente\n",
      "9 elefantes incomodam muita gente\n",
      "8 elefantes incomodam incomodam incomodam incomodam incomodam incomodam incomodam incomodam  pouca gente\n",
      "7 elefantes incomodam muita gente\n",
      "6 elefantes incomodam incomodam incomodam incomodam incomodam incomodam  pouca gente\n",
      "5 elefantes incomodam muita gente\n",
      "4 elefantes incomodam incomodam incomodam incomodam  pouca gente\n",
      "3 elefantes incomodam muita gente\n",
      "2 elefantes incomodam incomodam  pouca gente\n",
      "1 elefante incomoda menos gente\n",
      "0 elefantes  pouca gente\n"
     ]
    }
   ],
   "source": [
    "elefantes = 10\n",
    "while elefantes in range(0, 11):\n",
    "    if elefantes == 1:\n",
    "        print(f'{elefantes} elefante incomoda menos gente')\n",
    "    elif elefantes % 2 == 0:\n",
    "        print(f'{elefantes} elefantes', 'incomodam ' * elefantes, 'pouca gente')\n",
    "    else:\n",
    "        print(f'{elefantes} elefantes incomodam muita gente')\n",
    "    elefantes -= 1"
   ]
  },
  {
   "cell_type": "code",
   "execution_count": 4,
   "metadata": {},
   "outputs": [
    {
     "name": "stdout",
     "output_type": "stream",
     "text": [
      "Mariana conta 1 é 1\n",
      "Mariana conta 2 é 1 é 2 é Ana\n",
      "Mariana conta 3 é 2 é 3 é Ana\n",
      "Mariana conta 4 é 3 é 4 é Ana\n",
      "Mariana conta 5 é 4 é 5 é Ana\n",
      "Mariana conta 6 é 5 é 6 é Ana\n",
      "Mariana conta 7 é 6 é 7 é Ana\n",
      "Mariana conta 8 é 7 é 8 é Ana\n",
      "Mariana conta 9 é 8 é 9 é Ana\n",
      "Mariana conta 10 é 9 é 10 é Ana\n"
     ]
    }
   ],
   "source": [
    "for contagem in range(1, 11):\n",
    "    if(contagem == 1):\n",
    "        print('Mariana conta', contagem, 'é', contagem)\n",
    "    else:\n",
    "        print('Mariana conta', contagem, 'é', contagem - 1, 'é', contagem, 'é Ana')"
   ]
  }
 ],
 "metadata": {
  "kernelspec": {
   "display_name": "Python 3",
   "language": "python",
   "name": "python3"
  },
  "language_info": {
   "codemirror_mode": {
    "name": "ipython",
    "version": 3
   },
   "file_extension": ".py",
   "mimetype": "text/x-python",
   "name": "python",
   "nbconvert_exporter": "python",
   "pygments_lexer": "ipython3",
   "version": "3.12.3"
  }
 },
 "nbformat": 4,
 "nbformat_minor": 2
}
