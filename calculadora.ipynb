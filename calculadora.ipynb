{
  "nbformat": 4,
  "nbformat_minor": 0,
  "metadata": {
    "colab": {
      "provenance": [],
      "authorship_tag": "ABX9TyPaDlT8/gZ6n75nyx4ARtDw",
      "include_colab_link": true
    },
    "kernelspec": {
      "name": "python3",
      "display_name": "Python 3"
    },
    "language_info": {
      "name": "python"
    }
  },
  "cells": [
    {
      "cell_type": "markdown",
      "metadata": {
        "id": "view-in-github",
        "colab_type": "text"
      },
      "source": [
        "<a href=\"https://colab.research.google.com/github/lukecrn/CODING/blob/main/calculadora.ipynb\" target=\"_parent\"><img src=\"https://colab.research.google.com/assets/colab-badge.svg\" alt=\"Open In Colab\"/></a>"
      ]
    },
    {
      "cell_type": "code",
      "execution_count": 1,
      "metadata": {
        "id": "80fGvikWOd-k"
      },
      "outputs": [],
      "source": [
        "def soma(n1, n2):\n",
        "    return n1+n2\n",
        "\n",
        "def subtrai(n1, n2):\n",
        "    return n1-n2\n",
        "\n",
        "def multiplica(n1, n2):\n",
        "    return n1*n2\n",
        "\n",
        "def divide(n1, n2):\n",
        "    return n1 / n2"
      ]
    },
    {
      "cell_type": "code",
      "source": [
        "while True:\n",
        "    print('+=====================+')\n",
        "    print('| MENU DE OPERAÇÕES   |')\n",
        "    print('| 1. SOMAR            |')\n",
        "    print('| 2. SUBTRAIR         |')\n",
        "    print('| 3. MULTIPLICAR      |')\n",
        "    print('| 4. DIVIDIR          |')\n",
        "    print('| 0. SAIR             |')\n",
        "    print('+=====================+')\n",
        "\n",
        "    op = int(input('Escolha sua operação'))\n",
        "    n1 = int(input('Digite o primeiro número'))\n",
        "    n2 = int(input('Digite o segundo número'))\n",
        "\n",
        "\n",
        "    if op == 1:\n",
        "        print('O resultado da soma é: ', soma(n1, n2))\n",
        "    elif op == 2:\n",
        "        print('O resultado da subtração é: ', subtrai(n1, n2))\n",
        "    elif op == 3:\n",
        "        print('O resultado da multiplicação é: ', multiplica(n1, n2))\n",
        "    elif op == 4:\n",
        "        print('O resultado da divisão é: ', divide(n1, n2))\n",
        "    elif op == 0:\n",
        "        print('')\n",
        "        break21"
      ],
      "metadata": {
        "colab": {
          "base_uri": "https://localhost:8080/"
        },
        "id": "agwAzZL3OojI",
        "outputId": "b0e94417-23d1-4606-aad4-bd9b8674c4a9"
      },
      "execution_count": 2,
      "outputs": [
        {
          "output_type": "stream",
          "name": "stdout",
          "text": [
            "+=====================+\n",
            "| MENU DE OPERAÇÕES   |\n",
            "| 1. SOMAR            |\n",
            "| 2. SUBTRAIR         |\n",
            "| 3. MULTIPLICAR      |\n",
            "| 4. DIVIDIR          |\n",
            "| 0. SAIR             |\n",
            "+=====================+\n",
            "Escolha sua operação3\n",
            "Digite o primeiro número2\n",
            "Digite o segundo número5\n",
            "O resultado da multiplicação é:  10\n",
            "+=====================+\n",
            "| MENU DE OPERAÇÕES   |\n",
            "| 1. SOMAR            |\n",
            "| 2. SUBTRAIR         |\n",
            "| 3. MULTIPLICAR      |\n",
            "| 4. DIVIDIR          |\n",
            "| 0. SAIR             |\n",
            "+=====================+\n",
            "Escolha sua operação4\n",
            "Digite o primeiro número10\n",
            "Digite o segundo número2\n",
            "O resultado da divisão é:  5.0\n",
            "+=====================+\n",
            "| MENU DE OPERAÇÕES   |\n",
            "| 1. SOMAR            |\n",
            "| 2. SUBTRAIR         |\n",
            "| 3. MULTIPLICAR      |\n",
            "| 4. DIVIDIR          |\n",
            "| 0. SAIR             |\n",
            "+=====================+\n",
            "Escolha sua operação1\n",
            "Digite o primeiro número2\n",
            "Digite o segundo número3\n",
            "O resultado da soma é:  5\n",
            "+=====================+\n",
            "| MENU DE OPERAÇÕES   |\n",
            "| 1. SOMAR            |\n",
            "| 2. SUBTRAIR         |\n",
            "| 3. MULTIPLICAR      |\n",
            "| 4. DIVIDIR          |\n",
            "| 0. SAIR             |\n",
            "+=====================+\n",
            "Escolha sua operação0\n",
            "Digite o primeiro número1\n",
            "Digite o segundo número1\n",
            "\n"
          ]
        }
      ]
    }
  ]
}