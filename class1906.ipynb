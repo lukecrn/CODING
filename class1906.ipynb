{
 "cells": [
  {
   "cell_type": "code",
   "execution_count": 9,
   "metadata": {},
   "outputs": [],
   "source": [
    "# Criando uma classe\n",
    "class Animal():\n",
    "    # Construtor de classe\n",
    "    def __init__(self, name, weight, color):\n",
    "    # Atributos\n",
    "        self.nome = name\n",
    "        self.peso = weight\n",
    "        self.corDoPelo = color\n",
    "    \n",
    "    def imprimirDados(self):\n",
    "        return('Nome: %s \\nPeso: %s' %(self.nome, self.peso))\n",
    "\n",
    "    def latir(self, barulho):\n",
    "        print(barulho)\n"
   ]
  },
  {
   "cell_type": "code",
   "execution_count": 10,
   "metadata": {},
   "outputs": [
    {
     "name": "stdout",
     "output_type": "stream",
     "text": [
      "Nome: Marlene \n",
      "Peso: 7.9\n",
      "Au, Au\n",
      "Nome: Cibele \n",
      "Peso: 4.5\n",
      "Miau\n"
     ]
    }
   ],
   "source": [
    "# Instanciando um objeto cachorro\n",
    "cao = Animal('Marlene', 7.9, 'Caramelo')\n",
    "gato = Animal('Cibele', 4.5, 'Cinza')\n",
    "\n",
    "# Chamando o método do objeto criado\n",
    "print(cao.imprimirDados())\n",
    "cao.latir('Au, Au')\n",
    "\n",
    "print(gato.imprimirDados())\n",
    "gato.latir('Miau')"
   ]
  },
  {
   "cell_type": "code",
   "execution_count": 16,
   "metadata": {},
   "outputs": [],
   "source": [
    "# Criando uma classe chamada livro\n",
    "class Livro():\n",
    "    \n",
    "    def __init__(self):\n",
    "        # Esse método vai inicializar cada objeto criado a partir desta classe\n",
    "        # Self indica que estes são atributos dos objetos\n",
    "        \n",
    "        self.titulo = 'Misto-Quente'\n",
    "        self.isbn = 123456789\n",
    "        print('Construtor chamado para criar um objeto desta classe')\n",
    "        \n",
    "        # Métodos são funções, que recebem como parâmetro atributos do objeto criado\n",
    "    def imprime(self):\n",
    "         print('Foi criado o livro %s e ISBN %d' %(self.titulo, self.isbn))\n",
    "        "
   ]
  },
  {
   "cell_type": "code",
   "execution_count": 20,
   "metadata": {},
   "outputs": [],
   "source": [
    "# Criando a classe Livro com parâmetros no método construtor\n",
    "class Livro():\n",
    "    def __init__(self, titulo, autor, isbn):\n",
    "        self.titulo = titulo\n",
    "        self.isbn = isbn\n",
    "        print('Construtor chamado para criar um objeto desta classe')\n",
    "        \n",
    "    def imprimir(self):\n",
    "        print('Foi criado o livro %s e ISBN %d' %(self.titulo, self.isbn))\n",
    "        "
   ]
  }
 ],
 "metadata": {
  "kernelspec": {
   "display_name": "Python 3",
   "language": "python",
   "name": "python3"
  },
  "language_info": {
   "codemirror_mode": {
    "name": "ipython",
    "version": 3
   },
   "file_extension": ".py",
   "mimetype": "text/x-python",
   "name": "python",
   "nbconvert_exporter": "python",
   "pygments_lexer": "ipython3",
   "version": "3.11.9"
  }
 },
 "nbformat": 4,
 "nbformat_minor": 2
}
