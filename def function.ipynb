{
 "cells": [
  {
   "cell_type": "code",
   "execution_count": 1,
   "metadata": {},
   "outputs": [
    {
     "name": "stdout",
     "output_type": "stream",
     "text": [
      "Número 0\n",
      "Número 1\n",
      "Número 2\n",
      "Número 3\n",
      "Número 4\n"
     ]
    }
   ],
   "source": [
    "def funcaoLeitura():\n",
    "    for i in range(5):\n",
    "        print('Número', i)\n",
    "funcaoLeitura()\n"
   ]
  },
  {
   "cell_type": "code",
   "execution_count": 3,
   "metadata": {},
   "outputs": [
    {
     "name": "stdout",
     "output_type": "stream",
     "text": [
      "O primeiro número é:  2\n",
      "O segundo número é:  2\n",
      "A soma é:  4\n"
     ]
    }
   ],
   "source": [
    "def addNum(n1, n2):\n",
    "    print('O primeiro número é: ', n1)\n",
    "    print('O segundo número é: ', n2)\n",
    "    print('A soma é: ', n1 + n2)\n",
    "addNum(2, 2)"
   ]
  },
  {
   "cell_type": "code",
   "execution_count": 10,
   "metadata": {},
   "outputs": [
    {
     "name": "stdout",
     "output_type": "stream",
     "text": [
      "Variável da função multiplicar:  20\n",
      "10\n"
     ]
    }
   ],
   "source": [
    "varGlobal = 10 #Essa é uma variável global\n",
    "def multiplicacao(num1, num2):\n",
    "    varLocal = (num1 * num2) #essa é uma variável local\n",
    "    print('Variável da função multiplicar: ', varLocal)\n",
    "\n",
    "multiplicacao(5, 4)\n",
    "print(varGlobal)"
   ]
  },
  {
   "cell_type": "code",
   "execution_count": 2,
   "metadata": {},
   "outputs": [
    {
     "data": {
      "text/plain": [
       "['pedro', 'lucas']"
      ]
     },
     "execution_count": 2,
     "metadata": {},
     "output_type": "execute_result"
    }
   ],
   "source": [
    "def separarTexto(texto):\n",
    "    return texto.split() # Método para separar um texto\n",
    "\n",
    "separarTexto('pedro lucas')"
   ]
  },
  {
   "cell_type": "code",
   "execution_count": 13,
   "metadata": {},
   "outputs": [],
   "source": [
    "# Quando não sabemos quantos parametros tem, usamos o *\n",
    "def variosParametros(*parametros):\n",
    "    for n, item in enumerate(parametros):\n",
    "        print('parametros', n, item)\n",
    "    return"
   ]
  },
  {
   "cell_type": "code",
   "execution_count": 14,
   "metadata": {},
   "outputs": [
    {
     "name": "stdout",
     "output_type": "stream",
     "text": [
      "parametros 0 Cibele\n",
      "parametros 1 Suely\n",
      "parametros 2 Giggio\n",
      "parametros 3 Madá\n",
      "parametros 4 Luquinhas\n"
     ]
    }
   ],
   "source": [
    "variosParametros('Cibele', 'Suely', 'Giggio', 'Madá', 'Luquinhas')"
   ]
  },
  {
   "cell_type": "code",
   "execution_count": 37,
   "metadata": {},
   "outputs": [
    {
     "name": "stdout",
     "output_type": "stream",
     "text": [
      "+=====================+\n",
      "| MENU DE OPERAÇÕES   |\n",
      "| 1. SOMAR            |\n",
      "| 2. SUBTRAIR         |\n",
      "| 3. MULTIPLICAR      |\n",
      "| 4. DIVIDIR          |\n",
      "| 0. SAIR             |\n",
      "+=====================+\n",
      "O resultado da soma é:  4\n",
      "+=====================+\n",
      "| MENU DE OPERAÇÕES   |\n",
      "| 1. SOMAR            |\n",
      "| 2. SUBTRAIR         |\n",
      "| 3. MULTIPLICAR      |\n",
      "| 4. DIVIDIR          |\n",
      "| 0. SAIR             |\n",
      "+=====================+\n",
      "\n"
     ]
    }
   ],
   "source": [
    "def soma(n1, n2):\n",
    "    return n1+n2\n",
    "\n",
    "def subtrai(n1, n2):\n",
    "    return n1-n2\n",
    "\n",
    "def multiplica(n1, n2):\n",
    "    return n1*n2\n",
    "\n",
    "def divide(n1, n2):\n",
    "    return n1 / n2\n",
    "\n",
    "while True:\n",
    "    print('+=====================+')\n",
    "    print('| MENU DE OPERAÇÕES   |')\n",
    "    print('| 1. SOMAR            |')\n",
    "    print('| 2. SUBTRAIR         |')\n",
    "    print('| 3. MULTIPLICAR      |')\n",
    "    print('| 4. DIVIDIR          |')\n",
    "    print('| 0. SAIR             |')\n",
    "    print('+=====================+')\n",
    "    \n",
    "    n1 = int(input('Digite o primeiro número'))\n",
    "    n2 = int(input('Digite o segundo número'))\n",
    "    op = int(input('Escolha sua operação'))\n",
    "\n",
    "    if op == 1:\n",
    "        print('O resultado da soma é: ', n1 + n2)\n",
    "    elif op == 2:\n",
    "        print('O resultado da subtração é: ', n1 - n2)\n",
    "    elif op == 3:\n",
    "        print('O resultado da multiplicação é: ', n1 * n2)\n",
    "    elif op == 4:\n",
    "        print('O resultado da divisão é: ', n1 / n2)\n",
    "    elif op == 0:\n",
    "        print('')\n",
    "        break\n",
    "        \n"
   ]
  }
 ],
 "metadata": {
  "kernelspec": {
   "display_name": "Python 3",
   "language": "python",
   "name": "python3"
  },
  "language_info": {
   "codemirror_mode": {
    "name": "ipython",
    "version": 3
   },
   "file_extension": ".py",
   "mimetype": "text/x-python",
   "name": "python",
   "nbconvert_exporter": "python",
   "pygments_lexer": "ipython3",
   "version": "3.11.9"
  }
 },
 "nbformat": 4,
 "nbformat_minor": 2
}
